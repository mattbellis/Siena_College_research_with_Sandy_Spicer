{
 "cells": [
  {
   "cell_type": "code",
   "execution_count": null,
   "metadata": {
    "collapsed": false
   },
   "outputs": [],
   "source": [
    "import lhcb_tools as lhcb\n",
    "\n",
    "import numpy as np\n",
    "import matplotlib.pylab as plt\n",
    "%matplotlib notebook"
   ]
  },
  {
   "cell_type": "code",
   "execution_count": null,
   "metadata": {
    "collapsed": false
   },
   "outputs": [],
   "source": [
    "infile = open(\"ToyMC_LHCb_BtoJpsiKp_1k.dat\",'r')\n",
    "\n",
    "collisions = lhcb.get_collisions(infile,True)\n",
    "\n",
    "energies = []\n",
    "\n",
    "for c in collisions:\n",
    "\n",
    "    pions,kaons,protons,muons,electrons,photons = c\n",
    "\n",
    "    # For example\n",
    "    for proton in protons:\n",
    "        E,px,py,pz,q = proton\n",
    "        energies.append(E)\n",
    "        \n",
    "plt.hist(energies)"
   ]
  },
  {
   "cell_type": "code",
   "execution_count": null,
   "metadata": {
    "collapsed": true
   },
   "outputs": [],
   "source": []
  }
 ],
 "metadata": {
  "kernelspec": {
   "display_name": "Python 2",
   "language": "python",
   "name": "python2"
  },
  "language_info": {
   "codemirror_mode": {
    "name": "ipython",
    "version": 2
   },
   "file_extension": ".py",
   "mimetype": "text/x-python",
   "name": "python",
   "nbconvert_exporter": "python",
   "pygments_lexer": "ipython2",
   "version": "2.7.10"
  }
 },
 "nbformat": 4,
 "nbformat_minor": 0
}
