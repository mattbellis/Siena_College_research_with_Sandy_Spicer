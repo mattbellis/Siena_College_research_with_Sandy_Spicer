{
 "cells": [
  {
   "cell_type": "markdown",
   "metadata": {},
   "source": [
    "# Lambda_b Reconstruction"
   ]
  },
  {
   "cell_type": "markdown",
   "metadata": {},
   "source": [
    "Using the updated repo, simple starter file, and analysis template, add the 4-vectors of the proton, kaon, and two muons, and see if it gives the mass of the Lambda_b"
   ]
  },
  {
   "cell_type": "markdown",
   "metadata": {},
   "source": [
    "$$\\Lambda_b^0 \\rightarrow J/\\psi  K^-  p$$"
   ]
  },
  {
   "cell_type": "markdown",
   "metadata": {},
   "source": [
    "$$\\Lambda_b^0 \\rightarrow \\mu^+ \\mu^- K^- p$$"
   ]
  },
  {
   "cell_type": "markdown",
   "metadata": {},
   "source": [
    "$\\Lambda_b^0$ - is a hadron, but more specifically a baryon\n",
    "* Mass = 5.620 GeV\n",
    "* Composition = up + down + bottom quark"
   ]
  },
  {
   "cell_type": "markdown",
   "metadata": {},
   "source": [
    "$J/\\psi$ - J/psi meson or psion\n",
    "* Mass = 3.096 GeV\n",
    "* Composition = charm + anti-charm quark\n",
    "* Decays into $\\mu^+$ and $\\mu^-$\n",
    "    * $\\mu^-$ is a pion or pi meson\n",
    "        * Mass = 0.105658 GeV\n",
    "        * Composition = down + anti-up quark\n",
    "    * $\\mu^+$ is an antimuon\n",
    "        * Mass = 0.105658 GeV\n",
    "        * Composition = up + anti-down quark\n"
   ]
  },
  {
   "cell_type": "markdown",
   "metadata": {},
   "source": [
    "$K^-$ is the anti-particle of the Kaon or K Meson\n",
    "* Mass = 0.494 GeV\n",
    "* Composition = anti-up + strange quark"
   ]
  },
  {
   "cell_type": "markdown",
   "metadata": {},
   "source": [
    "$p$ is a hadron, but more specifically a baryon composed of three quarks\n",
    "* Mass = 0.93827 GeV\n",
    "* Composition = 2 up + 1 down quark"
   ]
  },
  {
   "cell_type": "markdown",
   "metadata": {},
   "source": [
    "Dalitz Plot\n",
    "* x-axis is square of m1 + m2\n",
    "* y-axis is square of m2 + m2 or 2*m2"
   ]
  },
  {
   "cell_type": "code",
   "execution_count": null,
   "metadata": {
    "collapsed": false
   },
   "outputs": [],
   "source": [
    "import lhcb_tools as lhcb\n",
    "\n",
    "import numpy as np\n",
    "import matplotlib.pylab as plt\n",
    "%matplotlib notebook"
   ]
  },
  {
   "cell_type": "code",
   "execution_count": null,
   "metadata": {
    "collapsed": true
   },
   "outputs": [],
   "source": [
    "from math import sqrt\n",
    "def mass(E,px,py,pz):\n",
    "    m1 = (E**2-(px**2+py**2+pz**2))\n",
    "    if m1>=0:\n",
    "        return sqrt(m1)\n",
    "    else:\n",
    "        return sqrt(-m1)"
   ]
  },
  {
   "cell_type": "code",
   "execution_count": null,
   "metadata": {
    "collapsed": false
   },
   "outputs": [],
   "source": [
    "#infile = open(\"ToyMC_LHCb_BtoJpsiKp_1k.dat\",'r')\n",
    "infile = open(\"ToyMC_LHCb_BtoJpsiKp_5MeV_resolution.dat\")\n",
    "\n",
    "collisions = lhcb.get_collisions(infile,True)\n",
    "\n",
    "nmuons = []\n",
    "muon_mass = []\n",
    "muon_masses = []\n",
    "\n",
    "nkaons = []\n",
    "kaons_mass = []\n",
    "\n",
    "nprotons = []\n",
    "proton_mass = []\n",
    "\n",
    "lambda_b_mass = []\n",
    "\n",
    "x_values = []\n",
    "y_values = []\n",
    "\n",
    "for collision in collisions:\n",
    "\n",
    "    pions,kaons,protons,muons,electrons,photons = collision\n",
    "    \n",
    "    nmuon = len(muons)\n",
    "    nmuons.append(nmuon)\n",
    "    #print nmuon\n",
    "    \n",
    "    nkaon = len(kaons)\n",
    "    nkaons.append(nkaon)\n",
    "    \n",
    "    nproton = len(protons)\n",
    "    nprotons.append(nproton)\n",
    "    \n",
    "    \n",
    "# Nmuon is always going to be 2 because we are looking at a lambda_b decay which has a j/psi \n",
    "# J/psi decays into muon and antimuon\n",
    "    \n",
    "    for muon in muons: # Mass of one muon  \n",
    "        E,px,py,pz,q = muon\n",
    "        m1 = mass(E,px,py,pz)\n",
    "        muon_mass.append(m1)\n",
    "        \n",
    "    for kaon in kaons:\n",
    "        E,px,py,pz,q = kaon\n",
    "        m2 = mass(E,px,py,pz)\n",
    "        kaons_mass.append(m2)\n",
    "        \n",
    "    for proton in protons:\n",
    "        E,px,py,pz,q = proton\n",
    "        m3 = mass(E,px,py,pz)\n",
    "        proton_mass.append(m3)\n",
    "        \n",
    "    for i in range(0,nmuon):\n",
    "        for j in range(i+1,nmuon):\n",
    "            for k in range(0,nkaon):\n",
    "                for l in range(0,nproton):\n",
    "                    \n",
    "                    E0,px0,py0,pz0,charge0=muons[i]\n",
    "                    E1,px1,py1,pz1,charge1=muons[j]\n",
    "                    E2,px2,py2,pz2,charge2=kaons[k]                    \n",
    "                    E3,px3,py3,pz3,charge3=protons[l]\n",
    "                \n",
    "                    if charge0 == -charge1 and charge2 == -1 and charge3 == 1:\n",
    "                        E = E0 + E1 + E2 + E3\n",
    "                        px = px0 + px1 + px2 + px3 \n",
    "                        py = py0 + py1 + py2 + py3\n",
    "                        pz = pz0 + pz1 + pz2 + pz3\n",
    "                        m = mass(E,px,py,pz)\n",
    "                        lambda_b_mass.append(m)\n",
    "                        \n",
    "                # Dalitz Plot\n",
    "    \n",
    "                    E01 = E0 + E1 + E3\n",
    "                    px01 = px0 + px1 + px3\n",
    "                    py01 = py0 + py1 + py3\n",
    "                    pz01 = pz0 + pz1 + pz3\n",
    "        \n",
    "                    y = mass(E01,px01,py01,pz01)\n",
    "                    y *= y\n",
    "    \n",
    "                    E02 = E2 + E3\n",
    "                    px02 = px2 + px3\n",
    "                    py02 = py2 + py3\n",
    "                    pz02 = pz2 + pz3\n",
    "        \n",
    "                    x = mass(E02,px02,py02,pz02)\n",
    "                    x *= x\n",
    "    \n",
    "                    x_values.append(x)\n",
    "                    y_values.append(y) \n",
    "                        \n",
    "                    \n",
    "plt.figure()\n",
    "plt.hist(muon_mass,bins=50,range=(0,0.2))\n",
    "plt.xlabel('Mass of Muon [GeV]')\n",
    "plt.ylabel('# entries')\n",
    "plt.title('Muon')\n",
    "\n",
    "plt.figure()\n",
    "plt.hist(kaons_mass,bins=50,range=(0.46,0.53))\n",
    "plt.xlabel('Mass of Kaon [GeV]')\n",
    "plt.ylabel('# entries')\n",
    "plt.title('Kaon')\n",
    "\n",
    "plt.figure()\n",
    "plt.hist(proton_mass,bins=50,range=(0.92,0.95))\n",
    "plt.xlabel('Mass of Proton [GeV]')\n",
    "plt.ylabel('# entries')\n",
    "plt.title('Proton')\n",
    "\n",
    "plt.figure()\n",
    "plt.hist(lambda_b_mass,bins=50,range=(5.5,5.7))\n",
    "plt.xlabel('Mass of Lambda_b')\n",
    "plt.ylabel('# entries')\n",
    "plt.title('Lambda_b')\n",
    "\n",
    "plt.figure()\n",
    "plt.plot(x_values,y_values,'b.',alpha=1.0,markersize=1) # Alpha is transparency\n",
    "plt.xlabel(\"M^2(muon,muon) [GeV]\")\n",
    "plt.ylabel(\"M^2(kaon,proton) [GeV]\")\n",
    "plt.title(\"Dalitz Plot for Lambda_b Decay\")"
   ]
  },
  {
   "cell_type": "code",
   "execution_count": null,
   "metadata": {
    "collapsed": true
   },
   "outputs": [],
   "source": []
  }
 ],
 "metadata": {
  "kernelspec": {
   "display_name": "Python 2",
   "language": "python",
   "name": "python2"
  },
  "language_info": {
   "codemirror_mode": {
    "name": "ipython",
    "version": 2
   },
   "file_extension": ".py",
   "mimetype": "text/x-python",
   "name": "python",
   "nbconvert_exporter": "python",
   "pygments_lexer": "ipython2",
   "version": "2.7.10"
  }
 },
 "nbformat": 4,
 "nbformat_minor": 0
}
