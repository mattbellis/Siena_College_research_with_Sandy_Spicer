{
 "cells": [
  {
   "cell_type": "markdown",
   "metadata": {},
   "source": [
    "# What is a Hadron?"
   ]
  },
  {
   "cell_type": "markdown",
   "metadata": {},
   "source": [
    "A hadron is a composite particle made of quarks held together by the strong force \n",
    "* Hadrons are categorized into two families: baryons, made of three quarks, and mesons, made of one quark and one antiquark."
   ]
  },
  {
   "cell_type": "markdown",
   "metadata": {},
   "source": [
    "# What is a Baryon?"
   ]
  },
  {
   "cell_type": "markdown",
   "metadata": {},
   "source": [
    "A baryon is a subatomic particle made up of three quarks\n",
    "* Baryons belong to the hadron family, which is made up of quarks.\n",
    "* Baryons participate in the strong interaction, whereas leptons, which are not quark-based, do not. \n",
    "* The most familiar baryons are the protons and neutrons that make up most of the mass of the visible matter in the universe. \n",
    "* Electrons (the other major component of the atom) are leptons."
   ]
  },
  {
   "cell_type": "markdown",
   "metadata": {},
   "source": [
    "# What is a $\\Lambda_b$, $\\Lambda_c$, and a $W^\\pm$?"
   ]
  },
  {
   "cell_type": "markdown",
   "metadata": {},
   "source": [
    "$$\\Lambda_b \\rightarrow \\Lambda_c + W^\\pm$$\n",
    "\n",
    "The $\\Lambda_b$ decays into a lambda charm ($\\Lambda_c$) and a W boson ($W^\\pm$)\n",
    "\n",
    "A $\\Lambda_b$ is composed of a bottom, down, and up quark \n",
    "* A bottom quark has a charge of -1/3\n",
    "* A down quark has a charge of -1/3\n",
    "* An up quark has a charge of 2/3\n",
    "\n",
    "When a $\\Lambda_b$ decays, first, the quark content changes to a charm, down and up quark. \n",
    "* A charm quark has a charge of 2/3\n",
    "* A down quark has a charge of -1/3\n",
    "* An up quark has a charge of 2/3\n",
    "\n",
    "This new quark content is the $\\Lambda_c$"
   ]
  },
  {
   "cell_type": "markdown",
   "metadata": {},
   "source": [
    "# $\\Lambda_c$"
   ]
  },
  {
   "cell_type": "markdown",
   "metadata": {},
   "source": [
    "* Mass = 2.286 GeV\n",
    "* Composition = up, down, and charm quarks\n",
    "* Mean Lifetime = 2.00 x 10^-13\n",
    "\n",
    "A $\\Lambda_c$ decays into... $$\\Lambda_c \\rightarrow p + K^- + \\pi^+$$"
   ]
  },
  {
   "cell_type": "markdown",
   "metadata": {},
   "source": [
    "# $W^\\pm$"
   ]
  },
  {
   "cell_type": "markdown",
   "metadata": {},
   "source": [
    "W Bosons are carriers of the weak force that are best known for their role in nuclear decay\n",
    "* The W bosons have a positive and negative electric charge of 1 elementary charge respectively and are each other's antiparticles\n",
    "* The two W bosons are best known as mediators of neutrino absorption and emission, where their charge is associated with electron or positron emission or absorption, always causing nuclear transmutation\n",
    "* W bosons can decay to a lepton and neutrino or to an up-type quark and a down-type quark."
   ]
  },
  {
   "cell_type": "markdown",
   "metadata": {},
   "source": [
    "A W boson decays into... $$W^\\pm \\rightarrow \\mu^- + \\nu$$"
   ]
  },
  {
   "cell_type": "markdown",
   "metadata": {},
   "source": [
    "It is from these two decays that we end up with... $$\\Lambda_b \\rightarrow \\pi^+ + K^- + p + \\mu^- + \\nu$$"
   ]
  },
  {
   "cell_type": "markdown",
   "metadata": {},
   "source": []
  }
 ],
 "metadata": {
  "kernelspec": {
   "display_name": "Python 2",
   "language": "python",
   "name": "python2"
  },
  "language_info": {
   "codemirror_mode": {
    "name": "ipython",
    "version": 2
   },
   "file_extension": ".py",
   "mimetype": "text/x-python",
   "name": "python",
   "nbconvert_exporter": "python",
   "pygments_lexer": "ipython2",
   "version": "2.7.11"
  }
 },
 "nbformat": 4,
 "nbformat_minor": 0
}
