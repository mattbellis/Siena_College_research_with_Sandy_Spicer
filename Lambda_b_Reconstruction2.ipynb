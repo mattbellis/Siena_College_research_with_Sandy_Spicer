{
 "cells": [
  {
   "cell_type": "markdown",
   "metadata": {},
   "source": [
    "# $\\Lambda_b$ Reconstruction "
   ]
  },
  {
   "cell_type": "markdown",
   "metadata": {},
   "source": [
    "### Task"
   ]
  },
  {
   "cell_type": "markdown",
   "metadata": {},
   "source": [
    "* Using the new data files, construct a histogram of the mass of the lambda_b by adding the four vectors of the pion, kaon, proton, muon, neutrino (stored as electrons in the code) \n",
    "    * This should have a peak \n",
    "* Construct a histogram of the mass of the lambda_b by adding the four vectors of the pion kaon, proton, and muon \n",
    "    * This should be a blob"
   ]
  },
  {
   "cell_type": "markdown",
   "metadata": {},
   "source": [
    "Actual Decay\n",
    "$$\\Lambda_b^0 \\rightarrow \\pi^+ + K^- + p + \\mu^- + \\nu$$ "
   ]
  },
  {
   "cell_type": "markdown",
   "metadata": {},
   "source": [
    "Fake Decay\n",
    "$$\\Lambda_b^0 \\rightarrow J/\\psi  K^-  p$$\n",
    "\n",
    "* $J/\\psi$ is fake because it's a pion and a muon rather than two muons"
   ]
  },
  {
   "cell_type": "markdown",
   "metadata": {},
   "source": [
    "$\\Lambda_b^0$ - is a hadron, but more specifically a baryon\n",
    "* Mass = 5.620 GeV\n",
    "* Composition = up + down + bottom quark\n",
    "* Decays into a pion, kaon, proton, muon, and neutrino"
   ]
  },
  {
   "cell_type": "markdown",
   "metadata": {},
   "source": [
    "$\\pi^+$ is a pion or pi meson\n",
    "* Made up of an up and anti-down quark\n",
    "* Mass = 0.1395 GeV\n",
    "* Pions are the lightest mesons, composed of the lightest quarks (up and down)\n",
    "* Mean lifetime is 26 nanoseconds\n",
    "* Charged pions most often decay into muons and muon neutrinos, and neutral pions into gamma rays"
   ]
  },
  {
   "cell_type": "markdown",
   "metadata": {},
   "source": [
    "$K^-$ is the anti-particle of the Kaon or K Meson\n",
    "* Mass = 0.494 GeV\n",
    "* Composition = anti-up + strange quark"
   ]
  },
  {
   "cell_type": "markdown",
   "metadata": {},
   "source": [
    "$p$ is a hadron, but more specifically a baryon composed of three quarks\n",
    "* Mass = 0.93827 GeV\n",
    "* Composition = 2 up + 1 down quark"
   ]
  },
  {
   "cell_type": "markdown",
   "metadata": {},
   "source": [
    "$\\mu^-$ is an unstable subatomic particle, classified as a lepton\n",
    "* Mass = 0.105658 GeV\n",
    "* Muon decay always produces at least three particles, which must include an electron of the same charge as the muon and two neutrinos of different types\n",
    "* The muon is not believed to have any sub-structure (composed of any simpler particles) like that of all leptons"
   ]
  },
  {
   "cell_type": "markdown",
   "metadata": {},
   "source": [
    "$\\nu$ is a lepton\n",
    "* Mass = $3.20 x 10^-10 GeV$\n",
    "* Composition = elementary particle\n",
    "* They are the only identified candidate for dark matter, specifically hot dark matter\n",
    "* The majority of neutrinos in the vicinity of the Earth are from nuclear reactions in the Sun.\n",
    "* Neutrinos come in three flavors:\n",
    "    * $\\nu_e$ - electron neutrinos\n",
    "    * $\\nu_\\mu$ - muon neutrino\n",
    "    * $\\nu_\\tau$ - tau neutrinos"
   ]
  },
  {
   "cell_type": "code",
   "execution_count": null,
   "metadata": {
    "collapsed": false
   },
   "outputs": [],
   "source": [
    "import lhcb_tools as lhcb\n",
    "import lichen.lichen as lch\n",
    "import numpy as np\n",
    "import matplotlib.pylab as plt\n",
    "%matplotlib notebook\n",
    "\n",
    "# Comment this next line if you want the autoscroll back. \n",
    "%load_ext disable_autoscroll\n",
    "\n"
   ]
  },
  {
   "cell_type": "code",
   "execution_count": null,
   "metadata": {
    "collapsed": true
   },
   "outputs": [],
   "source": [
    "from math import sqrt\n",
    "def mass(p4):\n",
    "    E,px,py,pz = p4[0:4]\n",
    "    m1 = (E**2-(px**2+py**2+pz**2))\n",
    "    if m1>=0:\n",
    "        return sqrt(m1)\n",
    "    else:\n",
    "        return sqrt(-m1)\n",
    "\n",
    "def add_4_vecs(p4s):\n",
    "    E,px,py,pz = (0,0,0,0)\n",
    "\n",
    "    for p4 in p4s:\n",
    "        E += p4[0]\n",
    "        px += p4[1]\n",
    "        py += p4[2]\n",
    "        pz += p4[3]\n",
    "\n",
    "    p4tot = [E,px,py,pz]    \n",
    "    return p4tot\n",
    "\n",
    "def redefine_4vec(p4, newmass):\n",
    "    px = p4[1]\n",
    "    py = p4[2]\n",
    "    pz = p4[3]\n",
    "    newE = np.sqrt(newmass*newmass + px*px + py*py + pz*pz)\n",
    "    \n",
    "    return [newE,px,py,pz]"
   ]
  },
  {
   "cell_type": "code",
   "execution_count": null,
   "metadata": {
    "collapsed": false,
    "scrolled": true
   },
   "outputs": [],
   "source": [
    "#infile = open(\"ToyMC_LHCb_BtoLambdacmunu.dat\",'r')\n",
    "#infile = open('ToyMC_LHCb_BtoLambdacmunu_5MeV_resolution.dat')\n",
    "#infile = open('ToyMC_LHCb_BtoLambdacmunu_5MeV_resolution_100k.dat')\n",
    "infile = open('ToyMC_LHCb_BtoLambdacmunu_0.5pct_resolution_100k.dat')\n",
    "\n",
    "\n",
    "npions = []\n",
    "nkaons = []\n",
    "nprotons = []\n",
    "nmuons = []\n",
    "nneutrinos = []\n",
    "\n",
    "pion_mass = []\n",
    "kaon_mass = []\n",
    "proton_mass = []\n",
    "muon_mass = []\n",
    "neutrino_mass = [] # Neutrinos are stored as electrons (charge = 0)\n",
    "lambda_b_mass1 = []\n",
    "lambda_b_mass2 = []\n",
    "lambda_c_mass = []\n",
    "jpsi_mass = [] # This is not real\n",
    "pq_mass = []\n",
    "\n",
    "fake_lambda_b_mass = [] \n",
    "x_values = []\n",
    "y_values = []\n",
    "\n",
    "\n",
    "collisions = lhcb.get_collisions(infile,False)\n",
    "#print collisions\n",
    "\n",
    "for collision in collisions:\n",
    "    \n",
    "    pions,kaons,protons,muons,neutrinos,photons = collision\n",
    "    \n",
    "    npions.append(len(pions))\n",
    "    nkaons.append(len(kaons))\n",
    "    nprotons.append(len(protons))\n",
    "    nmuons.append(len(muons))\n",
    "    nneutrinos.append(len(neutrinos))\n",
    "    \n",
    "    pion_p4 = pions[0][0:4]\n",
    "    mpion = mass(pion_p4)\n",
    "    pion_mass.append(mpion)\n",
    "        \n",
    "    kaon_p4 = kaons[0][0:4]\n",
    "    mkaon = mass(kaon_p4)\n",
    "    kaon_mass.append(mkaon)\n",
    "            \n",
    "    proton_p4 = protons[0][0:4]\n",
    "    mproton = mass(proton_p4)\n",
    "    proton_mass.append(mproton)\n",
    "                \n",
    "    muon_p4 = muons[0][0:4]\n",
    "    mmuon = mass(muon_p4)\n",
    "    muon_mass.append(mmuon)\n",
    "\n",
    "    nu_p4 = neutrinos[0][0:4]\n",
    "    mneutrino = mass(nu_p4)\n",
    "    neutrino_mass.append(mneutrino)\n",
    "\n",
    "    lbp4_1 = add_4_vecs([pion_p4, kaon_p4, proton_p4, muon_p4, nu_p4])\n",
    "    lbp4_2 = add_4_vecs([pion_p4, kaon_p4, proton_p4, muon_p4])\n",
    "    lc = add_4_vecs([pion_p4, kaon_p4, proton_p4])\n",
    "\n",
    "    fake_muon = redefine_4vec(pion_p4, 0.105)\n",
    "\n",
    "    jpsi = add_4_vecs([fake_muon,muon_p4]) # Fake!\n",
    "\n",
    "\n",
    "    mlambda_b1 = mass(lbp4_1)\n",
    "    mlambda_b2 = mass(lbp4_2)\n",
    "    mlambda_c = mass(lc)\n",
    "    mjpsi = mass(jpsi) # Fake!\n",
    "\n",
    "    lambda_b_mass1.append(mlambda_b1)   \n",
    "    lambda_b_mass2.append(mlambda_b2)\n",
    "    lambda_c_mass.append(mlambda_c)\n",
    "    jpsi_mass.append(mjpsi)\n",
    "\n",
    "    if mjpsi>3.096-0.043 and mjpsi<3.096+0.048:\n",
    "        jpsi = redefine_4vec(jpsi, 3.096)\n",
    "\n",
    "        fake_lbp4 = add_4_vecs([jpsi,proton_p4,kaon_p4])\n",
    "        fakemlambda_b = mass(fake_lbp4)\n",
    "        fake_lambda_b_mass.append(fakemlambda_b)\n",
    "\n",
    "        if fakemlambda_b>5.6 and fakemlambda_b<5.65:\n",
    "            pq_p4 = add_4_vecs([jpsi,proton_p4])\n",
    "            pq_mass.append(mass(pq_p4))\n",
    "\n",
    "        \n",
    "print \"Processed data!\"\n"
   ]
  },
  {
   "cell_type": "code",
   "execution_count": null,
   "metadata": {
    "collapsed": false
   },
   "outputs": [],
   "source": [
    "plt.figure(figsize=(12,12))\n",
    "plt.subplot(4,3,1)\n",
    "plt.hist(pion_mass,bins=50,range=(0,0.2))\n",
    "plt.xlabel('Mass of Pion [GeV]')\n",
    "plt.ylabel('# entries')\n",
    "plt.title('Pion')  \n",
    "\n",
    "plt.subplot(4,3,2)\n",
    "plt.hist(kaon_mass,bins=50,range=(0.48,0.5))\n",
    "plt.xlabel('Mass of Kaon [GeV]')\n",
    "plt.ylabel('# entries')\n",
    "plt.title('Kaon')\n",
    "\n",
    "plt.subplot(4,3,3)\n",
    "plt.hist(proton_mass,bins=50,range=(0.9,1))\n",
    "plt.xlabel('Mass of Proton [GeV]')\n",
    "plt.ylabel('# entries')\n",
    "plt.title('Proton') \n",
    "\n",
    "plt.subplot(4,3,4)\n",
    "plt.hist(muon_mass,bins=50,range=(0,0.2))\n",
    "plt.xlabel('Mass of Muon [GeV]')\n",
    "plt.ylabel('# entries')\n",
    "plt.title('Muon')\n",
    "\n",
    "plt.subplot(4,3,5)\n",
    "plt.hist(neutrino_mass,bins=50)\n",
    "plt.xlabel('Mass of Neutrino [GeV]')\n",
    "plt.ylabel('# entries')\n",
    "plt.title('Neutrino') \n",
    "\n",
    "plt.subplot(4,3,6)\n",
    "plt.hist(lambda_b_mass1,bins=50,range=(5.5,5.8))\n",
    "plt.xlabel('Mass of Lambda_b [GeV]')\n",
    "plt.ylabel('# entries')\n",
    "plt.title('Lambda_b') \n",
    "\n",
    "plt.subplot(4,3,7)\n",
    "plt.hist(lambda_b_mass2,bins=50,range=(1,6))\n",
    "plt.xlabel('Mass of Lambda_b [GeV]')\n",
    "plt.ylabel('# entries')\n",
    "plt.title('Lambda_b Without Neutrino Mass')\n",
    "\n",
    "plt.subplot(4,3,8)\n",
    "plt.hist(lambda_c_mass,bins=50,range=(2,2.5))\n",
    "plt.xlabel(r'Mass of $\\Lambda_c$ [GeV]')\n",
    "plt.ylabel('# entries')\n",
    "plt.title(r'$\\Lambda_c$')\n",
    "\n",
    "plt.subplot(4,3,9)\n",
    "plt.hist(jpsi_mass,bins=50,range=(1,5))\n",
    "plt.xlabel(r'Mass of $J/\\psi$ Candidate[GeV]')\n",
    "plt.ylabel('# entries')\n",
    "plt.title(r'$M(\\pi \\mu)$')\n",
    "\n",
    "plt.subplot(4,3,10)\n",
    "plt.hist(fake_lambda_b_mass,bins=50,range=(4,6))\n",
    "plt.xlabel(r'Mass of $\\Lambda_b$ Candidate[GeV]')\n",
    "plt.ylabel('# entries')\n",
    "plt.title(r'Mass of $\\Lambda_b$ Candidate')\n",
    "\n",
    "plt.subplot(4,3,11)\n",
    "plt.hist(pq_mass,bins=25,range=(4,5.2))\n",
    "plt.xlabel(r'Mass of $P_c^+$ Candidate[GeV]')\n",
    "plt.ylabel('# entries')\n",
    "plt.title(r'Mass of $P_c^+$ Candidate')\n",
    "\n",
    "\n",
    "\n",
    "# plt.subplot(4,3,11)\n",
    "# plt.plot(x_values,y_values,'b.',alpha=1.0,markersize=1) # Alpha is transparency\n",
    "# plt.xlabel(r\"M$^2$(j/psi,proton) [GeV]\") # J/psi is fake!\n",
    "# plt.ylabel(r\"M$^2$(kaon,proton) [GeV]\")\n",
    "# plt.title(\"Dalitz Plot for Fake Lambda_b Decay\")\n",
    "\n",
    "plt.tight_layout()\n"
   ]
  },
  {
   "cell_type": "code",
   "execution_count": null,
   "metadata": {
    "collapsed": true
   },
   "outputs": [],
   "source": []
  }
 ],
 "metadata": {
  "kernelspec": {
   "display_name": "Python 2",
   "language": "python",
   "name": "python2"
  },
  "language_info": {
   "codemirror_mode": {
    "name": "ipython",
    "version": 2
   },
   "file_extension": ".py",
   "mimetype": "text/x-python",
   "name": "python",
   "nbconvert_exporter": "python",
   "pygments_lexer": "ipython2",
   "version": "2.7.11"
  }
 },
 "nbformat": 4,
 "nbformat_minor": 0
}
