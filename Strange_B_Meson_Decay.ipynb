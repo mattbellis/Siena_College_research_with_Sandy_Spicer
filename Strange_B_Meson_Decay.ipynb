{
 "cells": [
  {
   "cell_type": "markdown",
   "metadata": {},
   "source": [
    "# $B_s^0$ Decay"
   ]
  },
  {
   "cell_type": "markdown",
   "metadata": {},
   "source": [
    "### Task"
   ]
  },
  {
   "cell_type": "markdown",
   "metadata": {},
   "source": [
    "* Plot the mass of the muon, $J/\\psi$, $\\phi$ meson, and $B_s^0$ in order to confirm that the fake data generated is accurate\n",
    "* Redefine the four vector of the $K^+$ as a proton\n",
    "* Plot the mass of the fake proton, $K^-$ and $J/\\psi$ to see if we get a mass consistent with LHCb's plotted mass of the $\\Lambda_b^0$ (about 5.602 GeV)"
   ]
  },
  {
   "cell_type": "markdown",
   "metadata": {},
   "source": [
    "$B_s^0$ is a meson, meaning it is made up of a quark and an antiquark \n",
    "* Mass = 5.367 GeV\n",
    "* Composition = strange and anti bottom quark\n",
    "\n",
    "* Decays into $J/\\psi$ and $\\phi$"
   ]
  },
  {
   "cell_type": "markdown",
   "metadata": {},
   "source": [
    "$\\phi$ is a meson\n",
    "* Mass = 1.602 GeV\n",
    "* Composition = strange quark and antistrange quark\n",
    "* Decays into a $K^+$ and $K^-$"
   ]
  },
  {
   "cell_type": "markdown",
   "metadata": {},
   "source": [
    "$J/\\psi$ - J/psi meson or psion\n",
    "* Mass = 3.096 GeV\n",
    "* Composition = charm + anti-charm quark\n",
    "* Decays into $\\mu^+$ and $\\mu^-$"
   ]
  },
  {
   "cell_type": "markdown",
   "metadata": {},
   "source": [
    "$K^-$ is the anti-particle of the Kaon or K Meson\n",
    "* Mass = 0.494 GeV\n",
    "* Composition = anti-up + strange quark"
   ]
  },
  {
   "cell_type": "markdown",
   "metadata": {},
   "source": [
    "$\\mu^-$ is an unstable subatomic particle, classified as a lepton\n",
    "* Mass = 0.105658 GeV"
   ]
  },
  {
   "cell_type": "markdown",
   "metadata": {},
   "source": [
    "$$B_s^0 \\rightarrow J/\\psi + \\phi$$"
   ]
  },
  {
   "cell_type": "markdown",
   "metadata": {},
   "source": [
    "$$J/\\psi \\rightarrow \\mu^+ + \\mu^-$$"
   ]
  },
  {
   "cell_type": "markdown",
   "metadata": {},
   "source": [
    "$$\\phi \\rightarrow K^+ + K^-$$"
   ]
  },
  {
   "cell_type": "markdown",
   "metadata": {},
   "source": [
    "$$B_s^0 \\rightarrow \\mu^+ + \\mu^- + K^+ + K^-$$"
   ]
  },
  {
   "cell_type": "markdown",
   "metadata": {},
   "source": [
    "We think that it is possible that LHCb is mistaking a $\\Lambda_b^0$ for a $B_s^0$. A $B_s^0$ has a mass of 5.367 GeV while the mass of the $\\Lambda_b^0$ is 5.602 GeV. One decay of a $B_s^0$ yields a $J/\\psi$ and $\\phi$. There is a slight chance that the $J/\\psi$ can decay into a proton and an antiproton. For the purposes of this analysis, we are going to continue looking at the J/psi decay into a muon and antimuon. The phi meson which has a mass of 1.02 GeV decays into a $K^+$ and $K^-$. Looking at the full decay of the $B_s^0$, then the decay products are a muon, antimuon, kaon and antikaon. We think that it’s possible that the $K^+$ could be mistaken for a proton, producing a fake $\\Lambda_b^0$ that is actually a $B_s^0$."
   ]
  },
  {
   "cell_type": "markdown",
   "metadata": {},
   "source": [
    "Decay in Paper $$\\Lambda_b^0 \\rightarrow P_c^+ + K^-$$\n",
    "$$\\Lambda_b^0 \\rightarrow J/\\psi + p + K^-$$\n",
    "$$\\Lambda_b^0 \\rightarrow \\mu^+ + \\mu^- + p + K$$"
   ]
  },
  {
   "cell_type": "markdown",
   "metadata": {},
   "source": [
    "If the decay is actually a strange b meson, then this is the mistake they could have made..."
   ]
  },
  {
   "cell_type": "markdown",
   "metadata": {},
   "source": [
    "$$B_s^0 \\rightarrow \\mu^+ + \\mu^- + p + K^-$$"
   ]
  },
  {
   "cell_type": "markdown",
   "metadata": {},
   "source": [
    "If the plotted mass is around 5.602 GeV, then this would then lead to the conclusion that the strange b meson is a neutral lambda b baryon which would not be true!"
   ]
  },
  {
   "cell_type": "code",
   "execution_count": 1,
   "metadata": {
    "collapsed": true
   },
   "outputs": [],
   "source": [
    "import numpy as np\n",
    "from math import sqrt\n",
    "import matplotlib.pylab as plt\n",
    "import lhcb_tools as lhcb\n",
    "%matplotlib inline"
   ]
  },
  {
   "cell_type": "code",
   "execution_count": 127,
   "metadata": {
    "collapsed": true
   },
   "outputs": [],
   "source": [
    "def mass(p4):\n",
    "    E,px,py,pz = p4[0:4]\n",
    "    m = (E**2-(px**2+py**2+pz**2))\n",
    "    if m>=0:\n",
    "        return sqrt(m)\n",
    "    else:\n",
    "        return sqrt(-m)\n",
    "    \n",
    "def add_4_vecs(p4s):\n",
    "    E,px,py,pz = (0,0,0,0)\n",
    "\n",
    "    for p4 in p4s:\n",
    "        E += p4[0]\n",
    "        px += p4[1]\n",
    "        py += p4[2]\n",
    "        pz += p4[3]\n",
    "\n",
    "    p4tot = [E,px,py,pz]    \n",
    "    return p4tot\n",
    "\n",
    "def subtract_4_vecs(p4s):\n",
    "    E,px,py,pz = (0,0,0,0)\n",
    "\n",
    "    for p4 in p4s:\n",
    "        E -= p4[0]\n",
    "        px -= p4[1]\n",
    "        py -= p4[2]\n",
    "        pz -= p4[3]\n",
    "\n",
    "    p4tot = [E,px,py,pz]    \n",
    "    return p4tot\n",
    "\n",
    "def redefine_4_vec(p4,newmass):\n",
    "    px = p4[1]\n",
    "    py = p4[2]\n",
    "    pz = p4[3]\n",
    "    newE = np.sqrt(newmass*newmass + px*px + py*py + pz*pz)\n",
    "    return [newE,px,py,pz]"
   ]
  },
  {
   "cell_type": "code",
   "execution_count": 131,
   "metadata": {
    "collapsed": false
   },
   "outputs": [
    {
     "name": "stdout",
     "output_type": "stream",
     "text": [
      "2781\n"
     ]
    }
   ],
   "source": [
    "infile = open('ToyMC_LHCb_BstoJpsiphi.dat')\n",
    "\n",
    "kaon_mass1 = []\n",
    "kaon_mass2 = []\n",
    "muon_mass1 = []\n",
    "muon_mass2 = []\n",
    "phi_mass = []\n",
    "jpsi_mass = []\n",
    "sbm_mass = [] # Strange b meson\n",
    "\n",
    "fake_phi_mass = []\n",
    "fake_lambda_b_mass = []\n",
    "pq_mass = []\n",
    "particle_x_mass = []\n",
    "\n",
    "collisions = lhcb.get_collisions(infile,False)\n",
    "print len(collisions)\n",
    "\n",
    "for collision in collisions:\n",
    "    \n",
    "    pions,kaons,protons,muons,neutrinos,photons = collision\n",
    "    \n",
    "    kaon_p41 = kaons[0][0:4]\n",
    "    mkaon1 = mass(kaon_p41)\n",
    "    kaon_mass1.append(mkaon1)\n",
    "    #print kaon_mass1[0]\n",
    "    \n",
    "    kaon_p42 = kaons[1][0:4]\n",
    "    mkaon2 = mass(kaon_p42)\n",
    "    kaon_mass2.append(mkaon2)\n",
    "    #print kaon_mass2[0]\n",
    "    \n",
    "    muon_p41 = muons[0][0:4]\n",
    "    mmuon1 = mass(muon_p41)\n",
    "    muon_mass1.append(mmuon1)\n",
    "    #print muon_mass1[0]\n",
    "    \n",
    "    muon_p42 = muons[1][0:4]\n",
    "    mmuon2 = mass(muon_p42)\n",
    "    muon_mass2.append(mmuon2)\n",
    "    #print muon_mass2[0]\n",
    "        \n",
    "    phi_p4 = add_4_vecs([kaon_p41,kaon_p42])\n",
    "    mphi = mass(phi_p4)\n",
    "    phi_mass.append(mphi)\n",
    "    #print phi_mass[0]\n",
    "    \n",
    "    jpsi_p4 = add_4_vecs([muon_p41,muon_p42])\n",
    "    mjpsi = mass(jpsi_p4)\n",
    "    jpsi_mass.append(mjpsi)\n",
    "    #print jpsi_mass[0]\n",
    "\n",
    "    sbm_p4 = add_4_vecs([phi_p4,jpsi_p4])\n",
    "    msbm = mass(sbm_p4)\n",
    "    sbm_mass.append(msbm)\n",
    "    #print sbm_mass[0]\n",
    "    \n",
    "    fake_proton = redefine_4_vec(kaon_p41,0.938)\n",
    "    \n",
    "    fake_phi_p4 = add_4_vecs([fake_proton,kaon_p41])\n",
    "    mfake_phi = mass(fake_phi_p4)\n",
    "    fake_phi_mass.append(mfake_phi)\n",
    "    \n",
    "    fake_lbp4 = add_4_vecs([fake_phi_p4,jpsi_p4])\n",
    "    mfake_lbp4 = mass(fake_lbp4)\n",
    "    fake_lambda_b_mass.append(mfake_lbp4)\n",
    "    \n",
    "    pq_lbp4 = add_4_vecs([fake_proton,jpsi_p4])\n",
    "    mpq = mass(pq_lbp4)\n",
    "    pq_mass.append(mpq)\n",
    "    \n",
    "# Let's try subtracting the pK mass from the actual lambda b candidate to see the missing mass\n",
    "# Look for particles that are equal to this difference in mass\n",
    "# Difference in mass is around 4.102 GeV\n",
    "    \n",
    "    # What if the J/Psi is actually a different particle?\n",
    "    # What if there is a missing neutrino?\n",
    "    \n",
    "    \n",
    "    \n",
    "    \n",
    "fake_phi_mass = np.array(fake_phi_mass)\n",
    "fake_lambda_b_mass = np.array(fake_lambda_b_mass)\n",
    "pq_mass = np.array(pq_mass)\n",
    "    "
   ]
  },
  {
   "cell_type": "code",
   "execution_count": 126,
   "metadata": {
    "collapsed": false
   },
   "outputs": [
    {
     "data": {
      "image/png": "[encoded data removed]",
      "text/plain": [
       "<matplotlib.figure.Figure at 0x1136b6c10>"
      ]
     },
     "metadata": {},
     "output_type": "display_data"
    }
   ],
   "source": [
    "plt.figure(figsize=(14,12))\n",
    "plt.subplot(3,4,1)\n",
    "plt.hist(kaon_mass1,bins=50,range=(0.48,0.5))\n",
    "plt.title(r'K')\n",
    "plt.xlabel(r'Mass of $K^-$ [GeV]')\n",
    "plt.ylabel('# entries')\n",
    "\n",
    "plt.subplot(3,4,2)\n",
    "plt.hist(muon_mass1,bins=50,range=(0,0.2))\n",
    "plt.title(r'$\\mu^+$')\n",
    "plt.xlabel(r'Mass of $\\mu^+$ [GeV]')\n",
    "plt.ylabel('# entries')\n",
    "\n",
    "plt.subplot(3,4,3)\n",
    "plt.hist(phi_mass,bins=50,range=(0.5,1.5))\n",
    "plt.title(r'$\\phi$')\n",
    "plt.xlabel(r'Mass of $\\phi$ [GeV]')\n",
    "plt.ylabel('# entries')\n",
    "\n",
    "plt.subplot(3,4,4)\n",
    "plt.hist(jpsi_mass,bins=50,range=(2.5,3.5))\n",
    "plt.title(r'$J/\\psi$')\n",
    "plt.xlabel(r'Mass of $J/\\psi$ [GeV]')\n",
    "plt.ylabel('# entries')\n",
    "\n",
    "plt.subplot(3,4,5)\n",
    "plt.hist(sbm_mass,bins=50,range=(5.3,5.4))\n",
    "plt.title(r'$B_s^0$')\n",
    "plt.xlabel(r'Mass of $B_s^0$ [GeV]')\n",
    "plt.ylabel(r'# entries')\n",
    "\n",
    "plt.subplot(3,4,6)\n",
    "plt.hist(fake_phi_mass,bins=50,range=(1.4,1.55))\n",
    "plt.title(r'$pK^-$ Candidate')\n",
    "plt.xlabel(r'Mass of $pK^-$ Candidate [GeV]')\n",
    "plt.ylabel(r'# entries')\n",
    "\n",
    "plt.subplot(3,4,7)\n",
    "plt.hist(fake_lambda_b_mass,bins=50,range=(5,6))\n",
    "plt.title(r'$\\Lambda_b^0$ Candidate')\n",
    "plt.xlabel(r'Mass of $\\Lambda_b^0$ Candidate [GeV]')\n",
    "plt.ylabel(r'# entries')\n",
    "\n",
    "plt.subplot(3,4,9)\n",
    "plt.hist(pq_mass,bins=50)\n",
    "plt.title(r'$P_c^+$ Candidate')\n",
    "plt.xlabel(r'Mass of $P_c^+$ Candidate [GeV]')\n",
    "plt.ylabel(r'# entries')\n",
    "\n",
    "phi_window = 0.048\n",
    "jpsi_window = 0.048\n",
    "\n",
    "index  = fake_phi_mass>1.50-phi_window\n",
    "index *= fake_phi_mass<1.50+phi_window\n",
    "index *= fake_lambda_b_mass>5.6\n",
    "index *= fake_lambda_b_mass<5.65\n",
    "index *= jpsi_mass>3.096-jpsi_window\n",
    "index *= jpsi_mass>3.096+jpsi_window\n",
    "\n",
    "if len(index[index])>0:\n",
    "\n",
    "    plt.subplot(3,4,8)\n",
    "    plt.hist(fake_lambda_b_mass[index],bins=50,range=(5,6),color='red')\n",
    "    plt.title(r'$\\Lambda_b^0$ Candidate')\n",
    "    plt.xlabel(r'Mass of $\\Lambda_b^0$ Candidate [GeV]')\n",
    "    plt.ylabel(r'# entries')\n",
    "    \n",
    "    plt.subplot(3,4,10)\n",
    "    plt.hist(pq_mass[index],bins=50,color='red')\n",
    "    plt.title(r'$P_c^+$ Candidate')\n",
    "    plt.xlabel(r'Mass of $P_c^+$ Candidate [GeV]')\n",
    "    plt.ylabel(r'# entries')\n",
    "    \n",
    "    \n",
    "\n",
    "plt.tight_layout()"
   ]
  },
  {
   "cell_type": "markdown",
   "metadata": {
    "collapsed": true
   },
   "source": [
    "There is an ongoing search for a theoretical pentaquark state, called $\\theta^++$ which is made of three up quarks, one down quark, and one antistrange quark. It is predicted to decay as follows:\n",
    "$$\\theta^++ \\rightarrow p + K^-$$\n",
    "If the above decay is proven, the expected mass is around 1.50 GeV, which is what we measure in the $pK^-$ histogram above."
   ]
  },
  {
   "cell_type": "code",
   "execution_count": null,
   "metadata": {
    "collapsed": true
   },
   "outputs": [],
   "source": []
  }
 ],
 "metadata": {
  "kernelspec": {
   "display_name": "Python 2",
   "language": "python",
   "name": "python2"
  },
  "language_info": {
   "codemirror_mode": {
    "name": "ipython",
    "version": 2
   },
   "file_extension": ".py",
   "mimetype": "text/x-python",
   "name": "python",
   "nbconvert_exporter": "python",
   "pygments_lexer": "ipython2",
   "version": "2.7.11"
  }
 },
 "nbformat": 4,
 "nbformat_minor": 0
}
