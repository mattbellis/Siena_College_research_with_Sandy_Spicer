{
 "cells": [
  {
   "cell_type": "code",
   "execution_count": 16,
   "metadata": {
    "collapsed": false
   },
   "outputs": [
    {
     "name": "stdout",
     "output_type": "stream",
     "text": [
      "beta: 0.974874\n",
      "Flight length is 0.000263 meters (0.262582 mm)\n"
     ]
    }
   ],
   "source": [
    "from math import sqrt\n",
    "\n",
    "#tau = 1.4e-12 # mean lifetime of the Lambda_b in seconds\n",
    "#m = 5.6 # Mass of Lambda_b in GeV/c^2\n",
    "\n",
    "tau = 200e-15 # mean lifetime of the Lambda_b in seconds\n",
    "m = 2.285 # Mass of Lambda_b in GeV/c^2\n",
    "\n",
    "\n",
    "c = 3e8 # Speed of light in m/s\n",
    "\n",
    "#v = 0.99*c\n",
    "\n",
    "\n",
    "\n",
    "p = 10.0 # GeV/c\n",
    "\n",
    "\n",
    "\n",
    "#d = v*tau # This is naive!\n",
    "\n",
    "#beta = v/c\n",
    "\n",
    "E = sqrt(p*p + m*m)\n",
    "beta = p/E\n",
    "\n",
    "gamma = 1/sqrt(1-beta**2)\n",
    "\n",
    "d = gamma * beta * c * tau\n",
    "\n",
    "print \"beta: %f\" % (beta)\n",
    "print \"Flight length is %f meters (%f mm)\" % (d,d*1000.)"
   ]
  },
  {
   "cell_type": "code",
   "execution_count": null,
   "metadata": {
    "collapsed": true
   },
   "outputs": [],
   "source": []
  }
 ],
 "metadata": {
  "kernelspec": {
   "display_name": "Python 2",
   "language": "python",
   "name": "python2"
  },
  "language_info": {
   "codemirror_mode": {
    "name": "ipython",
    "version": 2
   },
   "file_extension": ".py",
   "mimetype": "text/x-python",
   "name": "python",
   "nbconvert_exporter": "python",
   "pygments_lexer": "ipython2",
   "version": "2.7.11"
  }
 },
 "nbformat": 4,
 "nbformat_minor": 0
}
