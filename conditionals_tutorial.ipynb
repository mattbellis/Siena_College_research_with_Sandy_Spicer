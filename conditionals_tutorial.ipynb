{
 "cells": [
  {
   "cell_type": "code",
   "execution_count": 6,
   "metadata": {
    "collapsed": true
   },
   "outputs": [],
   "source": [
    "x = 10"
   ]
  },
  {
   "cell_type": "code",
   "execution_count": 7,
   "metadata": {
    "collapsed": false
   },
   "outputs": [
    {
     "name": "stdout",
     "output_type": "stream",
     "text": [
      "True False\n"
     ]
    }
   ],
   "source": [
    "# Conditionals\n",
    "c0 = x>5\n",
    "c1 = x<5\n",
    "\n",
    "# Run this once with the above conditionals defined, and then \n",
    "# run it again with these two uncommented, just to convince yourself\n",
    "# how things work. \n",
    "#c0 = x>5\n",
    "#c1 = x<10\n",
    "\n",
    "print c0,c1"
   ]
  },
  {
   "cell_type": "code",
   "execution_count": 8,
   "metadata": {
    "collapsed": false
   },
   "outputs": [
    {
     "name": "stdout",
     "output_type": "stream",
     "text": [
      "At least one of them is false\n",
      "At least one of them is false\n",
      "0\n"
     ]
    }
   ],
   "source": [
    "# and statements\n",
    "\n",
    "# \"Normal\" way\n",
    "if x>5 and x<5:\n",
    "    print \"These are both true\"\n",
    "else:\n",
    "    print \"At least one of them is false\"\n",
    "\n",
    "    \n",
    "# \"Awesome\" way    \n",
    "if c0 * c1:\n",
    "    print \"These are both true\"\n",
    "else:\n",
    "    print \"At least one of them is false\"\n",
    "    \n",
    "# This is because multiplying them is the same as an *and* statment. \n",
    "# The product is 0 (or False) if one of them is False (0).\n",
    "print c0*c1\n"
   ]
  },
  {
   "cell_type": "code",
   "execution_count": 11,
   "metadata": {
    "collapsed": false
   },
   "outputs": [
    {
     "name": "stdout",
     "output_type": "stream",
     "text": [
      "At least one of these are  true\n",
      "At least one of these are  true\n",
      "1\n"
     ]
    }
   ],
   "source": [
    "# or statements\n",
    "\n",
    "# \"Normal\" way\n",
    "if x>5 or x<5:\n",
    "    print \"At least one of these are  true\"\n",
    "else:\n",
    "    print \"Both of them are false\"\n",
    "\n",
    "    \n",
    "# \"Awesome\" way    \n",
    "if c0 + c1:\n",
    "    print \"At least one of these are  true\"\n",
    "else:\n",
    "    print \"Both of them are false\"\n",
    "    \n",
    "# This is because adding them is the same as an *or* statement. \n",
    "# The product is 0 (or False) only if both of them are False (0).\n",
    "print c0 + c1\n"
   ]
  },
  {
   "cell_type": "code",
   "execution_count": 12,
   "metadata": {
    "collapsed": false
   },
   "outputs": [
    {
     "name": "stdout",
     "output_type": "stream",
     "text": [
      "1\n"
     ]
    }
   ],
   "source": [
    "# Can now get clever \n",
    "\n",
    "# and statement with the *= notation. \n",
    "c = x>5\n",
    "c *= x<20\n",
    "\n",
    "print c"
   ]
  },
  {
   "cell_type": "code",
   "execution_count": 13,
   "metadata": {
    "collapsed": false
   },
   "outputs": [
    {
     "name": "stdout",
     "output_type": "stream",
     "text": [
      "1\n"
     ]
    }
   ],
   "source": [
    "# or statement with the += notation. \n",
    "c = x>5\n",
    "c += x<1\n",
    "\n",
    "print c"
   ]
  },
  {
   "cell_type": "code",
   "execution_count": null,
   "metadata": {
    "collapsed": true
   },
   "outputs": [],
   "source": []
  }
 ],
 "metadata": {
  "kernelspec": {
   "display_name": "Python 2",
   "language": "python",
   "name": "python2"
  },
  "language_info": {
   "codemirror_mode": {
    "name": "ipython",
    "version": 2
   },
   "file_extension": ".py",
   "mimetype": "text/x-python",
   "name": "python",
   "nbconvert_exporter": "python",
   "pygments_lexer": "ipython2",
   "version": "2.7.11"
  }
 },
 "nbformat": 4,
 "nbformat_minor": 0
}
